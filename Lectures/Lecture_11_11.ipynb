{
 "cells": [
  {
   "metadata": {},
   "cell_type": "markdown",
   "source": "# Наследование и исключения",
   "id": "ede177b5b4365984"
  },
  {
   "metadata": {},
   "cell_type": "markdown",
   "source": "## Наследование",
   "id": "1ebc7698f6734726"
  },
  {
   "metadata": {},
   "cell_type": "markdown",
   "source": "С наследованием в питоне всё просто:\n",
   "id": "fac30fe37538a6e7"
  },
  {
   "metadata": {},
   "cell_type": "code",
   "outputs": [],
   "execution_count": null,
   "source": [
    "class New(Old):\n",
    "\n",
    "# поля и методы, возможно, перекрывающие Old.что-то-там"
   ],
   "id": "f49bf90f9823d6db"
  },
  {
   "metadata": {
    "ExecuteTime": {
     "end_time": "2024-11-11T13:31:40.828021Z",
     "start_time": "2024-11-11T13:31:40.813541Z"
    }
   },
   "cell_type": "code",
   "source": [
    "class C:\n",
    "    a = 1\n",
    "\n",
    "\n",
    "print(C.mro())\n",
    "\n",
    "\n",
    "class B(C):\n",
    "    e = 123"
   ],
   "id": "a2f167d11b64d0df",
   "outputs": [
    {
     "name": "stdout",
     "output_type": "stream",
     "text": [
      "[<class '__main__.C'>, <class 'object'>]\n"
     ]
    }
   ],
   "execution_count": 3
  },
  {
   "metadata": {},
   "cell_type": "markdown",
   "source": [
    "Видимость:\n",
    "\n",
    "* Поля объекта\n",
    "* Поля класса\n",
    "* Поля родительского класса (рекурсивно)"
   ],
   "id": "afbb393b3aef1beb"
  },
  {
   "metadata": {},
   "cell_type": "markdown",
   "source": "Рассмотрим неправильный способ определения операции сложения, если мы будем использовать наследование",
   "id": "10ce01c6e97f86"
  },
  {
   "metadata": {
    "ExecuteTime": {
     "end_time": "2024-11-11T13:36:22.093147Z",
     "start_time": "2024-11-11T13:36:22.079515Z"
    }
   },
   "cell_type": "code",
   "source": [
    "class A:\n",
    "    def __init__(self, num):\n",
    "        self.val = num\n",
    "\n",
    "    def __add__(self, other):\n",
    "        return A(self.val + other.val)\n",
    "\n",
    "\n",
    "a, b = A(1), A(2)\n",
    "print((a + b).val)  #Всё хорошо, пока мы не определим новый класс B\n",
    "\n",
    "\n",
    "class B(A):\n",
    "    def __sub__(self, other):\n",
    "        return B(self.val - other.val)\n",
    "    \n",
    "print(B(2)-B(3))\n",
    "print(B(2)+B(4)) # Получили объект класса А"
   ],
   "id": "1a49a8ef4cbcbe9b",
   "outputs": [
    {
     "name": "stdout",
     "output_type": "stream",
     "text": [
      "3\n",
      "<__main__.B object at 0x0000017FE4650F10>\n",
      "<__main__.A object at 0x0000017FE4650580>\n"
     ]
    }
   ],
   "execution_count": 7
  },
  {
   "metadata": {},
   "cell_type": "markdown",
   "source": "Поэтому нужно писать следующим образом",
   "id": "da2c8db6df2c09b2"
  },
  {
   "metadata": {},
   "cell_type": "code",
   "outputs": [],
   "execution_count": null,
   "source": [
    "class A:\n",
    "    def __init__(self, num):\n",
    "        self.val = num\n",
    "\n",
    "    def __add__(self, other):\n",
    "        return self.__class__(self.val + other.val)\n",
    "    \n",
    "class B(A):\n",
    "    def __sub__(self, other):\n",
    "        return self.__class__(self.val - other.val)"
   ],
   "id": "8face0004a8a7267"
  },
  {
   "metadata": {},
   "cell_type": "markdown",
   "source": "## Использование `type()`",
   "id": "971ad4263759757a"
  },
  {
   "metadata": {},
   "cell_type": "markdown",
   "source": "Производный класс можно задать при помощи type() с тремя параметрами (имя, список родителей, словарь полей)",
   "id": "2881cdd6d465746a"
  },
  {
   "metadata": {
    "ExecuteTime": {
     "end_time": "2024-11-11T13:40:24.759369Z",
     "start_time": "2024-11-11T13:40:24.755407Z"
    }
   },
   "cell_type": "code",
   "source": [
    "F=type(\"F\", (), {\"a\":0})\n",
    "D=type(\"D\", (F,), {\"b\":100500})\n",
    "c, d = F(), D()\n",
    "print(f\"{F=}, {D=}\")\n",
    "print(f\"{c=}, {d=}\")\n",
    "print(f\"{c.a=}, {d.a=}, {d.b=}\")"
   ],
   "id": "8359bc11c72f16f8",
   "outputs": [
    {
     "name": "stdout",
     "output_type": "stream",
     "text": [
      "F=<class '__main__.F'>, D=<class '__main__.D'>\n",
      "c=<__main__.F object at 0x0000017FE46470A0>, d=<__main__.D object at 0x0000017FE4647160>\n",
      "c.a=0, d.a=0, d.b=100500\n"
     ]
    }
   ],
   "execution_count": 12
  },
  {
   "metadata": {},
   "cell_type": "markdown",
   "source": "## Родительский прокси-объект super()",
   "id": "6d716dc660ae9eec"
  },
  {
   "metadata": {},
   "cell_type": "markdown",
   "source": "",
   "id": "bac14b96e35b9fb4"
  }
 ],
 "metadata": {
  "kernelspec": {
   "display_name": "Python 3",
   "language": "python",
   "name": "python3"
  },
  "language_info": {
   "codemirror_mode": {
    "name": "ipython",
    "version": 2
   },
   "file_extension": ".py",
   "mimetype": "text/x-python",
   "name": "python",
   "nbconvert_exporter": "python",
   "pygments_lexer": "ipython2",
   "version": "2.7.6"
  }
 },
 "nbformat": 4,
 "nbformat_minor": 5
}
