{
 "cells": [
  {
   "metadata": {},
   "cell_type": "markdown",
   "source": "",
   "id": "fd944015f953c1d0"
  },
  {
   "metadata": {
    "ExecuteTime": {
     "end_time": "2024-10-07T13:36:27.720154Z",
     "start_time": "2024-10-07T13:36:27.710687Z"
    }
   },
   "cell_type": "code",
   "source": [
    "from fractions import Fraction as frac\n",
    "print(float(frac(11,10)+frac(22,10)))"
   ],
   "id": "7347878159f9b752",
   "outputs": [
    {
     "name": "stdout",
     "output_type": "stream",
     "text": [
      "3.3\n"
     ]
    }
   ],
   "execution_count": 2
  },
  {
   "metadata": {
    "ExecuteTime": {
     "end_time": "2024-10-07T13:40:22.543581Z",
     "start_time": "2024-10-07T13:40:22.535418Z"
    }
   },
   "cell_type": "code",
   "source": [
    "from decimal import Decimal as dec\n",
    "import decimal\n",
    "decimal.getcontext().prec=26\n",
    "print(decimal.getcontext())\n",
    "print(dec(1)/dec(3))\n",
    "decimal.getcontext().prec=100\n",
    "print(dec(1)/dec(3))\n",
    "print(dec(1)/dec(3)*dec(\"3.3\"))"
   ],
   "id": "4087f552599b073e",
   "outputs": [
    {
     "name": "stdout",
     "output_type": "stream",
     "text": [
      "Context(prec=26, rounding=ROUND_HALF_EVEN, Emin=-999999, Emax=999999, capitals=1, clamp=0, flags=[Inexact, Rounded], traps=[InvalidOperation, DivisionByZero, Overflow])\n",
      "0.33333333333333333333333333\n",
      "0.3333333333333333333333333333333333333333333333333333333333333333333333333333333333333333333333333333\n",
      "1.100000000000000000000000000000000000000000000000000000000000000000000000000000000000000000000000000\n"
     ]
    }
   ],
   "execution_count": 10
  },
  {
   "metadata": {},
   "cell_type": "markdown",
   "source": "# Модуль Math",
   "id": "9a6e9ee0877a5963"
  },
  {
   "metadata": {},
   "cell_type": "markdown",
   "source": "В питоне есть модуль  `math`, который подходит для решения простых дмашних заданий",
   "id": "6b4d1d683d8d4c81"
  },
  {
   "metadata": {
    "ExecuteTime": {
     "end_time": "2024-10-07T13:45:24.076219Z",
     "start_time": "2024-10-07T13:45:24.067539Z"
    }
   },
   "cell_type": "code",
   "source": [
    "from math import *\n",
    "print(1.1+2.2==3.3)\n",
    "print(isclose(1.1+2.2, 3.3))\n",
    "# print(help(isclose))\n",
    "print(isclose(0.99999999999999, 1.1))\n",
    "print(isclose(0.99999999999999, 1))\n",
    "print(-0.0==0.0) # yо это разные объекты, т.е. если бы работал -0.0 is 0.0, то он бы вернул False"
   ],
   "id": "9c1eeb1e0d22bea0",
   "outputs": [
    {
     "name": "stdout",
     "output_type": "stream",
     "text": [
      "False\n",
      "True\n",
      "False\n",
      "True\n",
      "True\n"
     ]
    }
   ],
   "execution_count": 19
  },
  {
   "metadata": {},
   "cell_type": "markdown",
   "source": "## atan2()",
   "id": "e6cd7aaf60f68f40"
  },
  {
   "metadata": {},
   "cell_type": "markdown",
   "source": [
    "Это такой арктангенс, который принимает на вход два параметра\\\n",
    "Но почему два аргумента?\\\n",
    "Это нужно, чтобы правильно вычислять то, в какой координатной плоскости мы находимся"
   ],
   "id": "cbeaffba0def1853"
  },
  {
   "metadata": {},
   "cell_type": "markdown",
   "source": "# Псевдослучайные числа",
   "id": "60276b70142c5ee3"
  },
  {
   "metadata": {},
   "cell_type": "markdown",
   "source": [
    "Если нужны псевдослучайные — `random`\\\n",
    "Если же нужны реально случайные числа — `secrets` и `os.getrandom`"
   ],
   "id": "1f86b3414a69f004"
  },
  {
   "metadata": {
    "ExecuteTime": {
     "end_time": "2024-10-07T13:59:32.143859Z",
     "start_time": "2024-10-07T13:59:32.134771Z"
    }
   },
   "cell_type": "code",
   "source": [
    "import random\n",
    "print(random.random())\n",
    "print(random.randrange(1, 10, 2))"
   ],
   "id": "7c42711ac67b79b3",
   "outputs": [
    {
     "data": {
      "text/plain": [
       "7"
      ]
     },
     "execution_count": 25,
     "metadata": {},
     "output_type": "execute_result"
    }
   ],
   "execution_count": 25
  },
  {
   "metadata": {},
   "cell_type": "markdown",
   "source": "Продемонстрируем воспроизводимость этих случайных чисел",
   "id": "52b3f828badb8f01"
  },
  {
   "metadata": {
    "ExecuteTime": {
     "end_time": "2024-10-07T14:01:19.693250Z",
     "start_time": "2024-10-07T14:01:19.688644Z"
    }
   },
   "cell_type": "code",
   "source": [
    "random.seed(100500)\n",
    "print([random.randrange(10) for i in range(10)])\n",
    "random.seed(100500)\n",
    "print([random.randrange(10) for i in range(10)])\n"
   ],
   "id": "43c936fa1b1a8289",
   "outputs": [
    {
     "name": "stdout",
     "output_type": "stream",
     "text": [
      "[8, 6, 2, 0, 2, 3, 8, 8, 8, 1]\n",
      "[8, 6, 2, 0, 2, 3, 8, 8, 8, 1]\n"
     ]
    }
   ],
   "execution_count": 29
  },
  {
   "metadata": {},
   "cell_type": "markdown",
   "source": "## Полезные функции",
   "id": "4cfa57121d10650"
  },
  {
   "metadata": {
    "ExecuteTime": {
     "end_time": "2024-10-07T14:06:03.231495Z",
     "start_time": "2024-10-07T14:06:03.224045Z"
    }
   },
   "cell_type": "code",
   "source": [
    "print(random.choice([234, 678, 234, 567, 324, 123]))\n",
    "l=list(range(20))\n",
    "print(l)\n",
    "random.shuffle(l)\n",
    "print(l)\n",
    "print(random.choices(range(100), k=10))"
   ],
   "id": "d469d885bc3182f9",
   "outputs": [
    {
     "name": "stdout",
     "output_type": "stream",
     "text": [
      "567\n",
      "[0, 1, 2, 3, 4, 5, 6, 7, 8, 9, 10, 11, 12, 13, 14, 15, 16, 17, 18, 19]\n",
      "[10, 19, 5, 1, 15, 18, 12, 14, 8, 11, 3, 2, 9, 13, 7, 6, 4, 0, 17, 16]\n",
      "[31, 36, 59, 50, 94, 2, 29, 48, 3, 10]\n"
     ]
    }
   ],
   "execution_count": 44
  },
  {
   "metadata": {},
   "cell_type": "markdown",
   "source": "# Строки",
   "id": "e90e608939cd3f62"
  },
  {
   "metadata": {},
   "cell_type": "markdown",
   "source": "Строки в питоне - UNICODE",
   "id": "f43ec338a82cbdb3"
  }
 ],
 "metadata": {
  "kernelspec": {
   "display_name": "Python 3",
   "language": "python",
   "name": "python3"
  },
  "language_info": {
   "codemirror_mode": {
    "name": "ipython",
    "version": 2
   },
   "file_extension": ".py",
   "mimetype": "text/x-python",
   "name": "python",
   "nbconvert_exporter": "python",
   "pygments_lexer": "ipython2",
   "version": "2.7.6"
  }
 },
 "nbformat": 4,
 "nbformat_minor": 5
}
