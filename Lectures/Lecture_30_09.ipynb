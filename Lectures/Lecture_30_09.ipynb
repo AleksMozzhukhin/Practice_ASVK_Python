{
 "cells": [
  {
   "metadata": {},
   "cell_type": "markdown",
   "source": "# Функции и замыкание",
   "id": "b07a6fda64216c66"
  },
  {
   "metadata": {},
   "cell_type": "markdown",
   "source": "## Как задаются функции в питоне?",
   "id": "8f997f3d3e5c54dc"
  },
  {
   "metadata": {
    "ExecuteTime": {
     "end_time": "2024-09-30T13:28:04.485801Z",
     "start_time": "2024-09-30T13:28:04.476041Z"
    }
   },
   "cell_type": "code",
   "source": [
    "def fun(a, b):  # а, b - формальные параметры\n",
    "    c = a + b\n",
    "    return c + 1\n",
    "\n",
    "\n",
    "fun(123, 345)  # 123, 345 - фактические параметры"
   ],
   "id": "b7472074afc5f6ee",
   "outputs": [
    {
     "data": {
      "text/plain": [
       "469"
      ]
     },
     "execution_count": 2,
     "metadata": {},
     "output_type": "execute_result"
    }
   ],
   "execution_count": 2
  },
  {
   "metadata": {},
   "cell_type": "code",
   "outputs": [],
   "execution_count": null,
   "source": [
    "def fun2(a, b):\n",
    "    c = a * 2 + b\n",
    "    return c"
   ],
   "id": "cb8a32a3177f428f"
  },
  {
   "metadata": {},
   "cell_type": "markdown",
   "source": [
    "В питоне функции не совсем функции\n",
    "\n",
    "Обычно, функции - это подпрограмма переводящая данные одного типа, в другой \n",
    "\n",
    "В питоне - **именованный алгоритм**"
   ],
   "id": "8c3986b1391419e3"
  },
  {
   "metadata": {},
   "cell_type": "markdown",
   "source": "### return",
   "id": "54756765f64793a6"
  },
  {
   "metadata": {},
   "cell_type": "markdown",
   "source": "Что быдет, если в функции не будет **return**?",
   "id": "2be50fdd27e6bec5"
  },
  {
   "metadata": {
    "ExecuteTime": {
     "end_time": "2024-09-30T13:31:58.685372Z",
     "start_time": "2024-09-30T13:31:58.677758Z"
    }
   },
   "cell_type": "code",
   "source": [
    "def fun2(a, b):\n",
    "    c = a * 2 + b\n",
    "\n",
    "\n",
    "res = fun2(123, 345)\n",
    "print(res)"
   ],
   "id": "3ab836f53fb92af1",
   "outputs": [
    {
     "name": "stdout",
     "output_type": "stream",
     "text": [
      "None\n"
     ]
    }
   ],
   "execution_count": 6
  },
  {
   "metadata": {},
   "cell_type": "markdown",
   "source": [
    "По умолчанию, функция всегда возвращает None\n",
    "\n",
    "Такая парадигма называется **Duck typing**"
   ],
   "id": "988966ac448c692e"
  },
  {
   "metadata": {},
   "cell_type": "markdown",
   "source": "## Вызов функции как локальное пространство имён",
   "id": "2f4b0d8368ecf4d9"
  },
  {
   "metadata": {
    "ExecuteTime": {
     "end_time": "2024-09-30T13:35:47.658574Z",
     "start_time": "2024-09-30T13:35:47.649440Z"
    }
   },
   "cell_type": "code",
   "source": [
    "def fun(a, b):\n",
    "    print(locals(), end=\"\\n\\n\")\n",
    "    c = 2 * a + b\n",
    "    print(locals(), end=\"\\n\\n\")\n",
    "    return c + e\n",
    "\n",
    "\n",
    "e = \"123\"\n",
    "res = fun(\"@%$\", \"*&%\")\n",
    "print(locals())\n"
   ],
   "id": "5bdc4caf1488c6df",
   "outputs": [
    {
     "name": "stdout",
     "output_type": "stream",
     "text": [
      "{'a': '@%$', 'b': '*&%'}\n",
      "\n",
      "{'a': '@%$', 'b': '*&%', 'c': '@%$@%$*&%'}\n",
      "\n",
      "{'__name__': '__main__', '__doc__': 'Automatically created module for IPython interactive environment', '__package__': None, '__loader__': None, '__spec__': None, '__builtin__': <module 'builtins' (built-in)>, '__builtins__': <module 'builtins' (built-in)>, '_ih': ['', 'def fun(a, b): # а, b - формальные параметры\\n    c = a + b\\n    return c + 1\\n\\nfun(123, 345)', 'def fun(a, b): # а, b - формальные параметры\\n    c = a + b\\n    return c + 1 \\n\\nfun(123, 345) # 123, 345 - фактические параметры', 'def fun2(a, b):\\n    c = a * 2 + b\\n\\nfun2(123, 345)', 'def fun2(a, b):\\n    c = a * 2 + b\\n\\nres = fun2(123, 345)\\nres', 'def fun2(a, b):\\n    c = a * 2 + b\\n\\nres = fun2(123, 345)\\nres', 'def fun2(a, b):\\n    c = a * 2 + b\\n\\nres = fun2(123, 345)\\nprint(res)', 'def fun(a, b):\\n    print(locals())\\n    c=2*a+b\\n    print(locals())\\n    return c\\n\\nres = fun2(\"@%$\", \"*&%\")\\nprint(locals())', 'def fun(a, b):\\n    print(locals(), end=\"\\\\n\\\\n\")\\n    c=2*a+b\\n    print(locals(), end=\"\\\\n\\\\n\")\\n    return c\\n\\nres = fun2(\"@%$\", \"*&%\")\\nprint(locals())', 'def fun(a, b):\\n    print(locals(), end=\"\\\\n\\\\n\")\\n    c=2*a+b\\n    print(locals(), end=\"\\\\n\\\\n\")\\n    return c\\n\\nres = fun(\"@%$\", \"*&%\")\\nprint(locals())', 'def fun(a, b):\\n    print(locals(), end=\"\\\\n\\\\n\")\\n    c=2*a+b\\n    print(locals(), end=\"\\\\n\\\\n\")\\n    return c + e\\n\\ne=\"123\"\\nres = fun(\"@%$\", \"*&%\")\\nprint(locals())'], '_oh': {1: 469, 2: 469}, '_dh': [WindowsPath('C:/Users/mozhu/PycharmProjects/python_Kuryachiy/Lectures')], 'In': ['', 'def fun(a, b): # а, b - формальные параметры\\n    c = a + b\\n    return c + 1\\n\\nfun(123, 345)', 'def fun(a, b): # а, b - формальные параметры\\n    c = a + b\\n    return c + 1 \\n\\nfun(123, 345) # 123, 345 - фактические параметры', 'def fun2(a, b):\\n    c = a * 2 + b\\n\\nfun2(123, 345)', 'def fun2(a, b):\\n    c = a * 2 + b\\n\\nres = fun2(123, 345)\\nres', 'def fun2(a, b):\\n    c = a * 2 + b\\n\\nres = fun2(123, 345)\\nres', 'def fun2(a, b):\\n    c = a * 2 + b\\n\\nres = fun2(123, 345)\\nprint(res)', 'def fun(a, b):\\n    print(locals())\\n    c=2*a+b\\n    print(locals())\\n    return c\\n\\nres = fun2(\"@%$\", \"*&%\")\\nprint(locals())', 'def fun(a, b):\\n    print(locals(), end=\"\\\\n\\\\n\")\\n    c=2*a+b\\n    print(locals(), end=\"\\\\n\\\\n\")\\n    return c\\n\\nres = fun2(\"@%$\", \"*&%\")\\nprint(locals())', 'def fun(a, b):\\n    print(locals(), end=\"\\\\n\\\\n\")\\n    c=2*a+b\\n    print(locals(), end=\"\\\\n\\\\n\")\\n    return c\\n\\nres = fun(\"@%$\", \"*&%\")\\nprint(locals())', 'def fun(a, b):\\n    print(locals(), end=\"\\\\n\\\\n\")\\n    c=2*a+b\\n    print(locals(), end=\"\\\\n\\\\n\")\\n    return c + e\\n\\ne=\"123\"\\nres = fun(\"@%$\", \"*&%\")\\nprint(locals())'], 'Out': {1: 469, 2: 469}, 'get_ipython': <bound method InteractiveShell.get_ipython of <ipykernel.zmqshell.ZMQInteractiveShell object at 0x000001ADB58C5460>>, 'exit': <IPython.core.autocall.ZMQExitAutocall object at 0x000001ADB5911610>, 'quit': <IPython.core.autocall.ZMQExitAutocall object at 0x000001ADB5911610>, 'open': <function open at 0x000001ADB386B380>, '_': 469, '__': 469, '___': '', '__session__': 'Lectures/Lecture_30_09.ipynb', '_i': 'def fun(a, b):\\n    print(locals(), end=\"\\\\n\\\\n\")\\n    c=2*a+b\\n    print(locals(), end=\"\\\\n\\\\n\")\\n    return c\\n\\nres = fun(\"@%$\", \"*&%\")\\nprint(locals())', '_ii': 'def fun(a, b):\\n    print(locals(), end=\"\\\\n\\\\n\")\\n    c=2*a+b\\n    print(locals(), end=\"\\\\n\\\\n\")\\n    return c\\n\\nres = fun2(\"@%$\", \"*&%\")\\nprint(locals())', '_iii': 'def fun(a, b):\\n    print(locals())\\n    c=2*a+b\\n    print(locals())\\n    return c\\n\\nres = fun2(\"@%$\", \"*&%\")\\nprint(locals())', '_i1': 'def fun(a, b): # а, b - формальные параметры\\n    c = a + b\\n    return c + 1\\n\\nfun(123, 345)', 'fun': <function fun at 0x000001ADB594A2A0>, '_1': 469, 'sys': <module 'sys' (built-in)>, 'remove_imported_pydev_package': <function remove_imported_pydev_package at 0x000001ADB594AA20>, '_pydevd_bundle': <module '_pydevd_bundle' from 'C:\\\\Program Files\\\\JetBrains\\\\PyCharm 2023.2.4\\\\plugins\\\\python\\\\helpers\\\\pydev\\\\_pydevd_bundle\\\\__init__.py'>, 'pydev_jupyter_vars': <module 'pydev_jupyter_vars' from 'C:\\\\Program Files\\\\JetBrains\\\\PyCharm 2023.2.4\\\\plugins\\\\python\\\\helpers-pro\\\\jupyter_debug\\\\pydev_jupyter_vars.py'>, '_i2': 'def fun(a, b): # а, b - формальные параметры\\n    c = a + b\\n    return c + 1 \\n\\nfun(123, 345) # 123, 345 - фактические параметры', '_2': 469, '_i3': 'def fun2(a, b):\\n    c = a * 2 + b\\n\\nfun2(123, 345)', 'fun2': <function fun2 at 0x000001ADB5949C60>, '_i4': 'def fun2(a, b):\\n    c = a * 2 + b\\n\\nres = fun2(123, 345)\\nres', 'res': '@%$@%$*&%123', '_i5': 'def fun2(a, b):\\n    c = a * 2 + b\\n\\nres = fun2(123, 345)\\nres', '_i6': 'def fun2(a, b):\\n    c = a * 2 + b\\n\\nres = fun2(123, 345)\\nprint(res)', '_i7': 'def fun(a, b):\\n    print(locals())\\n    c=2*a+b\\n    print(locals())\\n    return c\\n\\nres = fun2(\"@%$\", \"*&%\")\\nprint(locals())', '_i8': 'def fun(a, b):\\n    print(locals(), end=\"\\\\n\\\\n\")\\n    c=2*a+b\\n    print(locals(), end=\"\\\\n\\\\n\")\\n    return c\\n\\nres = fun2(\"@%$\", \"*&%\")\\nprint(locals())', '_i9': 'def fun(a, b):\\n    print(locals(), end=\"\\\\n\\\\n\")\\n    c=2*a+b\\n    print(locals(), end=\"\\\\n\\\\n\")\\n    return c\\n\\nres = fun(\"@%$\", \"*&%\")\\nprint(locals())', '_i10': 'def fun(a, b):\\n    print(locals(), end=\"\\\\n\\\\n\")\\n    c=2*a+b\\n    print(locals(), end=\"\\\\n\\\\n\")\\n    return c + e\\n\\ne=\"123\"\\nres = fun(\"@%$\", \"*&%\")\\nprint(locals())', 'e': '123'}\n"
     ]
    }
   ],
   "execution_count": 10
  },
  {
   "metadata": {},
   "cell_type": "markdown",
   "source": "### Ключевое слово nonlocal",
   "id": "cc9e47c962ae2610"
  },
  {
   "metadata": {},
   "cell_type": "markdown",
   "source": "`nonlocal name` — явное указание брать имя `name` из внешнего, но не глобального пространства имён",
   "id": "b81abc9b8249eed6"
  },
  {
   "metadata": {},
   "cell_type": "markdown",
   "source": "### Как питон выбирает, какую переменную ему использовать?",
   "id": "eac578b04769f4d"
  },
  {
   "metadata": {
    "ExecuteTime": {
     "end_time": "2024-09-30T13:39:10.570418Z",
     "start_time": "2024-09-30T13:39:09.456470Z"
    }
   },
   "cell_type": "code",
   "source": [
    "с = 123\n",
    "\n",
    "\n",
    "def fun(a, b):\n",
    "    print(c)\n",
    "    print(locals(), end=\"\\n\\n\")\n",
    "    c = 2 * a + b\n",
    "    print(locals(), end=\"\\n\\n\")\n",
    "    return c + e\n",
    "\n",
    "\n",
    "fun(123, 345)"
   ],
   "id": "3c907eedeedb6b61",
   "outputs": [
    {
     "ename": "UnboundLocalError",
     "evalue": "cannot access local variable 'c' where it is not associated with a value",
     "output_type": "error",
     "traceback": [
      "\u001B[1;31m---------------------------------------------------------------------------\u001B[0m",
      "\u001B[1;31mUnboundLocalError\u001B[0m                         Traceback (most recent call last)",
      "Cell \u001B[1;32mIn[11], line 12\u001B[0m\n\u001B[0;32m      8\u001B[0m     \u001B[38;5;28mprint\u001B[39m(\u001B[38;5;28mlocals\u001B[39m(), end\u001B[38;5;241m=\u001B[39m\u001B[38;5;124m\"\u001B[39m\u001B[38;5;130;01m\\n\u001B[39;00m\u001B[38;5;130;01m\\n\u001B[39;00m\u001B[38;5;124m\"\u001B[39m)\n\u001B[0;32m      9\u001B[0m     \u001B[38;5;28;01mreturn\u001B[39;00m c \u001B[38;5;241m+\u001B[39m e\n\u001B[1;32m---> 12\u001B[0m fun(\u001B[38;5;241m123\u001B[39m, \u001B[38;5;241m345\u001B[39m)\n",
      "Cell \u001B[1;32mIn[11], line 5\u001B[0m, in \u001B[0;36mfun\u001B[1;34m(a, b)\u001B[0m\n\u001B[0;32m      4\u001B[0m \u001B[38;5;28;01mdef\u001B[39;00m \u001B[38;5;21mfun\u001B[39m(a, b):\n\u001B[1;32m----> 5\u001B[0m     \u001B[38;5;28mprint\u001B[39m(c)\n\u001B[0;32m      6\u001B[0m     \u001B[38;5;28mprint\u001B[39m(\u001B[38;5;28mlocals\u001B[39m(), end\u001B[38;5;241m=\u001B[39m\u001B[38;5;124m\"\u001B[39m\u001B[38;5;130;01m\\n\u001B[39;00m\u001B[38;5;130;01m\\n\u001B[39;00m\u001B[38;5;124m\"\u001B[39m)\n\u001B[0;32m      7\u001B[0m     c \u001B[38;5;241m=\u001B[39m \u001B[38;5;241m2\u001B[39m \u001B[38;5;241m*\u001B[39m a \u001B[38;5;241m+\u001B[39m b\n",
      "\u001B[1;31mUnboundLocalError\u001B[0m: cannot access local variable 'c' where it is not associated with a value"
     ]
    }
   ],
   "execution_count": 11
  },
  {
   "metadata": {},
   "cell_type": "markdown",
   "source": [
    "1. На этапе синтаксического анализа Питон определяет, какие имена локальные, а какие глобальные\n",
    "2. Определяет \"с\" как локальную\n",
    "3. Во время выполнения, пытается обратиться к ней как к локальной, но не может, так как она ещё не определена"
   ],
   "id": "14de69663b0d768b"
  },
  {
   "metadata": {},
   "cell_type": "markdown",
   "source": "## Функция как объект",
   "id": "50b6bf0e71d54d3e"
  },
  {
   "metadata": {
    "ExecuteTime": {
     "end_time": "2024-09-30T13:44:15.641673Z",
     "start_time": "2024-09-30T13:44:15.614404Z"
    }
   },
   "cell_type": "code",
   "source": "fun()",
   "id": "43e205038f906ad7",
   "outputs": [
    {
     "ename": "TypeError",
     "evalue": "fun() missing 2 required positional arguments: 'a' and 'b'",
     "output_type": "error",
     "traceback": [
      "\u001B[1;31m---------------------------------------------------------------------------\u001B[0m",
      "\u001B[1;31mTypeError\u001B[0m                                 Traceback (most recent call last)",
      "Cell \u001B[1;32mIn[13], line 1\u001B[0m\n\u001B[1;32m----> 1\u001B[0m fun()\n",
      "\u001B[1;31mTypeError\u001B[0m: fun() missing 2 required positional arguments: 'a' and 'b'"
     ]
    }
   ],
   "execution_count": 13
  },
  {
   "metadata": {
    "ExecuteTime": {
     "end_time": "2024-09-30T13:45:07.239335Z",
     "start_time": "2024-09-30T13:45:07.230511Z"
    }
   },
   "cell_type": "code",
   "source": [
    "print(fun)\n",
    "\n",
    "type(fun)"
   ],
   "id": "771c70dfa95cf3c2",
   "outputs": [
    {
     "name": "stdout",
     "output_type": "stream",
     "text": [
      "<function fun at 0x000001ADB5A18D60>\n"
     ]
    },
    {
     "data": {
      "text/plain": [
       "function"
      ]
     },
     "execution_count": 17,
     "metadata": {},
     "output_type": "execute_result"
    }
   ],
   "execution_count": 17
  },
  {
   "metadata": {},
   "cell_type": "markdown",
   "source": "### Передача функции в качестве параметра",
   "id": "3239bc88454ba663"
  },
  {
   "metadata": {
    "ExecuteTime": {
     "end_time": "2024-09-30T13:46:46.065245Z",
     "start_time": "2024-09-30T13:46:46.055424Z"
    }
   },
   "cell_type": "code",
   "source": [
    "def adder(fun, s):\n",
    "    return fun(s) + 1\n",
    "\n",
    "\n",
    "def fun(a):\n",
    "    return a * 2 + 1\n",
    "\n",
    "\n",
    "adder(fun, 234)"
   ],
   "id": "5feca2ec43268807",
   "outputs": [
    {
     "data": {
      "text/plain": [
       "470"
      ]
     },
     "execution_count": 19,
     "metadata": {},
     "output_type": "execute_result"
    }
   ],
   "execution_count": 19
  },
  {
   "metadata": {},
   "cell_type": "markdown",
   "source": [
    "Это демонстрирует, что в питоне можно передать в качестве параметра всё, что угодно, а в дальнейшем к нему обратиться\n",
    "\n",
    "`ВАЖНО:` чтобы к переданному объекту можно было обратиться, он должен быть вызываемым (проверяется с помощью функции `callable`"
   ],
   "id": "a86fd055d2de1d10"
  },
  {
   "metadata": {
    "ExecuteTime": {
     "end_time": "2024-09-30T13:49:34.209522Z",
     "start_time": "2024-09-30T13:49:34.202714Z"
    }
   },
   "cell_type": "code",
   "source": [
    "print(callable(int))\n",
    "print(int(\"1234\"))"
   ],
   "id": "6cd5be539e965657",
   "outputs": [
    {
     "name": "stdout",
     "output_type": "stream",
     "text": [
      "True\n",
      "1234\n"
     ]
    }
   ],
   "execution_count": 23
  },
  {
   "metadata": {},
   "cell_type": "markdown",
   "source": "### sorted()",
   "id": "bcfc7be19f6c38e5"
  },
  {
   "metadata": {
    "ExecuteTime": {
     "end_time": "2024-09-30T13:53:49.697015Z",
     "start_time": "2024-09-30T13:53:49.687303Z"
    }
   },
   "cell_type": "code",
   "source": [
    "l = [12, 34, 54, 352, 346, 547, 23, 415, 12, 34, 1, 345, 1]\n",
    "print(sorted(l), end=\"\\n\\n\")\n",
    "print(sorted(l, reverse=True), end=\"\\n\\n\")\n",
    "\n",
    "\n",
    "def key(a):\n",
    "    return a % 3\n",
    "\n",
    "\n",
    "print(sorted(l, reverse=True, key=key), end=\"\\n\\n\")"
   ],
   "id": "9b731da1d202af70",
   "outputs": [
    {
     "name": "stdout",
     "output_type": "stream",
     "text": [
      "[1, 1, 12, 12, 23, 34, 34, 54, 345, 346, 352, 415, 547]\n",
      "\n",
      "[547, 415, 352, 346, 345, 54, 34, 34, 23, 12, 12, 1, 1]\n",
      "\n",
      "[23, 34, 352, 346, 547, 415, 34, 1, 1, 12, 54, 12, 345]\n",
      "\n",
      "[12, 34, 54, 352, 346, 12, 34, 547, 23, 415, 1, 345, 1]\n"
     ]
    }
   ],
   "execution_count": 27
  },
  {
   "metadata": {},
   "cell_type": "markdown",
   "source": "### lambda - функции",
   "id": "4760b38f555b098e"
  },
  {
   "metadata": {
    "ExecuteTime": {
     "end_time": "2024-09-30T13:57:56.919362Z",
     "start_time": "2024-09-30T13:57:56.909475Z"
    }
   },
   "cell_type": "code",
   "source": [
    "def fun(a, b):\n",
    "    return a * 2 + b\n",
    "\n",
    "\n",
    "f2 = lambda a, b: a * 2 + b\n",
    "fun(123, 567)\n",
    "f2(123, 567)\n",
    "print(fun, f2, sep=\"\\n\", end=\"\\n\\n\")\n",
    "print(type(fun), type(f2), sep=\"                \")"
   ],
   "id": "4663a860cffe7dad",
   "outputs": [
    {
     "name": "stdout",
     "output_type": "stream",
     "text": [
      "<function fun at 0x000001ADB673EE80>\n",
      "<function <lambda> at 0x000001ADB673E340>\n",
      "\n",
      "<class 'function'>                <class 'function'>\n"
     ]
    }
   ],
   "execution_count": 29
  },
  {
   "metadata": {},
   "cell_type": "markdown",
   "source": "## Распаковка и запаковка параметров",
   "id": "77fb65e8a05810af"
  },
  {
   "metadata": {
    "ExecuteTime": {
     "end_time": "2024-09-30T13:59:05.405642Z",
     "start_time": "2024-09-30T13:59:05.396923Z"
    }
   },
   "cell_type": "code",
   "source": [
    "def fun(*args):\n",
    "    print(args)\n",
    "\n",
    "\n",
    "fun()\n",
    "fun(1, 2, 3)"
   ],
   "id": "ec80e405cc6317f0",
   "outputs": [
    {
     "name": "stdout",
     "output_type": "stream",
     "text": [
      "()\n",
      "(1, 2, 3)\n"
     ]
    }
   ],
   "execution_count": 30
  },
  {
   "metadata": {},
   "cell_type": "markdown",
   "source": "### Передача параметров с распаковкой последовательности",
   "id": "1951ac1430eec07b"
  },
  {
   "metadata": {
    "ExecuteTime": {
     "end_time": "2024-09-30T14:01:08.912055Z",
     "start_time": "2024-09-30T14:01:08.903105Z"
    }
   },
   "cell_type": "code",
   "source": [
    "def fun(a, b, c, d):\n",
    "    print(a, c, b, d)\n",
    "\n",
    "\n",
    "a = 1, 2, 3, 4\n",
    "fun(*a)\n",
    "fun(*range(10, 100, 25))\n",
    "fun(1, *\"QWE\")"
   ],
   "id": "4ed80da25c976b9e",
   "outputs": [
    {
     "name": "stdout",
     "output_type": "stream",
     "text": [
      "1 (2, 3, 4)\n",
      "10 (35, 60, 85)\n",
      "1 ('Q', 'W', 'E')\n"
     ]
    }
   ],
   "execution_count": 32
  },
  {
   "metadata": {},
   "cell_type": "markdown",
   "source": "## Параметры функции по умолчанию и именованные параметры",
   "id": "447f41726f014116"
  },
  {
   "metadata": {},
   "cell_type": "code",
   "outputs": [],
   "execution_count": null,
   "source": [
    "def fun(a, b=1, c=2, d=3):\n",
    "    print(a, c, b, d)"
   ],
   "id": "5315fbbe51c4c3a9"
  },
  {
   "metadata": {},
   "cell_type": "markdown",
   "source": "### Как отделять именные параметры от позиционно-именных",
   "id": "44115f3ff5058481"
  },
  {
   "metadata": {
    "ExecuteTime": {
     "end_time": "2024-09-30T14:06:11.656072Z",
     "start_time": "2024-09-30T14:06:11.622889Z"
    }
   },
   "cell_type": "code",
   "source": [
    "def fun(a, b=1, c=2, /, d=5, *, n=\"QQ\"):\n",
    "    print(n, a, b, c, d)\n",
    "\n",
    "\n",
    "fun(5, 6, 7, 8)\n",
    "fun(123, 4, 5, 6, \"e\")"
   ],
   "id": "501e89d53e68e52e",
   "outputs": [
    {
     "name": "stdout",
     "output_type": "stream",
     "text": [
      "QQ 5 6 7 8\n"
     ]
    },
    {
     "ename": "TypeError",
     "evalue": "fun() takes from 1 to 4 positional arguments but 5 were given",
     "output_type": "error",
     "traceback": [
      "\u001B[1;31m---------------------------------------------------------------------------\u001B[0m",
      "\u001B[1;31mTypeError\u001B[0m                                 Traceback (most recent call last)",
      "Cell \u001B[1;32mIn[35], line 4\u001B[0m\n\u001B[0;32m      2\u001B[0m     \u001B[38;5;28mprint\u001B[39m(n, a, b, c, d)\n\u001B[0;32m      3\u001B[0m fun(\u001B[38;5;241m5\u001B[39m, \u001B[38;5;241m6\u001B[39m, \u001B[38;5;241m7\u001B[39m, \u001B[38;5;241m8\u001B[39m)\n\u001B[1;32m----> 4\u001B[0m fun(\u001B[38;5;241m123\u001B[39m, \u001B[38;5;241m4\u001B[39m, \u001B[38;5;241m5\u001B[39m, \u001B[38;5;241m6\u001B[39m, \u001B[38;5;124m\"\u001B[39m\u001B[38;5;124me\u001B[39m\u001B[38;5;124m\"\u001B[39m)\n",
      "\u001B[1;31mTypeError\u001B[0m: fun() takes from 1 to 4 positional arguments but 5 were given"
     ]
    }
   ],
   "execution_count": 35
  },
  {
   "metadata": {},
   "cell_type": "markdown",
   "source": "## Строки документации функции",
   "id": "dc5695403e9dda56"
  },
  {
   "metadata": {
    "ExecuteTime": {
     "end_time": "2024-09-30T14:08:56.009169Z",
     "start_time": "2024-09-30T14:08:56.000520Z"
    }
   },
   "cell_type": "code",
   "source": [
    "def fun(a, b):\n",
    "    \"Returns double sum of a and b\"\n",
    "    return (a + b) * 2\n",
    "\n",
    "\n",
    "print(fun(\"qwer\", \"jhg\"))\n",
    "print(dir(fun))\n",
    "print(fun.__doc__)"
   ],
   "id": "72b2ce80a110c9e3",
   "outputs": [
    {
     "name": "stdout",
     "output_type": "stream",
     "text": [
      "qwerjhgqwerjhg\n",
      "['__annotations__', '__builtins__', '__call__', '__class__', '__closure__', '__code__', '__defaults__', '__delattr__', '__dict__', '__dir__', '__doc__', '__eq__', '__format__', '__ge__', '__get__', '__getattribute__', '__getstate__', '__globals__', '__gt__', '__hash__', '__init__', '__init_subclass__', '__kwdefaults__', '__le__', '__lt__', '__module__', '__name__', '__ne__', '__new__', '__qualname__', '__reduce__', '__reduce_ex__', '__repr__', '__setattr__', '__sizeof__', '__str__', '__subclasshook__', '__type_params__']\n",
      "Returns double sum of a and b\n"
     ]
    }
   ],
   "execution_count": 38
  },
  {
   "metadata": {},
   "cell_type": "markdown",
   "source": "## Рекурсия",
   "id": "bafa6a9ffe65acf1"
  },
  {
   "metadata": {},
   "cell_type": "markdown",
   "source": [
    "**Хвостовая рекурсия** - ситуация, когда функция вызывает сама себя и нет необходимости плодить вложенные пространства имён при вызове\n",
    "\n",
    "Такой рекурсии в Питоне нет\n",
    "\n",
    "Какие ещё особенности рекурсии:\n",
    "1. max глубина 1000 (потому что очень трудоёмкая)\n",
    "2. рекурсивные алгоритмы имеет смысл писать, тогда сложность такого алгоритма log(n), если же такого нет, то вы с большой вероятностью можете написать цикл"
   ],
   "id": "89879fe8d075f646"
  },
  {
   "metadata": {},
   "cell_type": "markdown",
   "source": "### Замещение рекурсии стеком",
   "id": "7f25241f02b6bed3"
  },
  {
   "metadata": {},
   "cell_type": "markdown",
   "source": [
    "Так как существует ЯП, такие, где нет циклов, но есть рекурсия ==> это более-менее эквивалентные понятия\n",
    "\n",
    "Значит, любой рекурсивный алгоритм можно переписать через цикл"
   ],
   "id": "67063d5c4339d485"
  },
  {
   "metadata": {},
   "cell_type": "markdown",
   "source": "### Пример задачи",
   "id": "c71d67d40f8fd19c"
  },
  {
   "metadata": {},
   "cell_type": "markdown",
   "source": [
    "Есть ли среди натуральных чисел Seq такие, что в сумме дают S\n",
    "\n",
    "Рекурсивный вариант:"
   ],
   "id": "250a94d34e85be62"
  },
  {
   "metadata": {
    "ExecuteTime": {
     "end_time": "2024-09-30T14:21:09.467639Z",
     "start_time": "2024-09-30T14:21:09.460461Z"
    }
   },
   "cell_type": "code",
   "source": [
    "def subsumR(S, Seq, Res=[]):\n",
    "    if sum(Res) == S:\n",
    "        return Res\n",
    "    for i, el in enumerate(Seq):\n",
    "        R = subsumR(S, Seq[i + 1:], Res + [el])\n",
    "        if R: return R\n",
    "    return []"
   ],
   "id": "d2feb99f38437204",
   "outputs": [],
   "execution_count": 39
  },
  {
   "metadata": {},
   "cell_type": "markdown",
   "source": [
    "* S — неизменяемая часть, Seq, Res — изменяемая, значит, их надо сохранять в стек.\n",
    "\n",
    "* Рекурсия — это цикл, которые продолжается до тех пор, пока рекурсивные вызовы не кончились."
   ],
   "id": "89b2bd079636914b"
  },
  {
   "metadata": {},
   "cell_type": "code",
   "outputs": [],
   "execution_count": null,
   "source": [
    "def subsumS(S, Num):\n",
    "    Stack = [(Num, [])]\n",
    "    while Stack:\n",
    "        Seq, Res = Stack.pop()\n",
    "        if sum(Res) == S:\n",
    "            return Res\n",
    "        Stack.extend([(Seq[i + 1:], Res + [el]) for i, el in enumerate(Seq)])\n",
    "    return []"
   ],
   "id": "c2bcc29097319a63"
  },
  {
   "metadata": {},
   "cell_type": "markdown",
   "source": "## Замыкание",
   "id": "90f0fe3574b853df"
  },
  {
   "metadata": {},
   "cell_type": "markdown",
   "source": "Так как функция — объект, то  её можно изготовить внутри другой функции",
   "id": "ccfa78ce54c439d5"
  },
  {
   "metadata": {
    "ExecuteTime": {
     "end_time": "2024-09-30T14:27:07.517047Z",
     "start_time": "2024-09-30T14:27:07.508497Z"
    }
   },
   "cell_type": "code",
   "source": [
    "def f1(num):\n",
    "    def f2(x):\n",
    "        return x + num\n",
    "    return f2\n",
    "\n",
    "\n",
    "res = f1(123)\n",
    "print(res)\n",
    "print(res(100))"
   ],
   "id": "a3527357df76dff1",
   "outputs": [
    {
     "name": "stdout",
     "output_type": "stream",
     "text": [
      "<function f1.<locals>.f2 at 0x000001ADB67E51C0>\n",
      "223\n"
     ]
    }
   ],
   "execution_count": 40
  }
 ],
 "metadata": {
  "kernelspec": {
   "display_name": "Python 3",
   "language": "python",
   "name": "python3"
  },
  "language_info": {
   "codemirror_mode": {
    "name": "ipython",
    "version": 2
   },
   "file_extension": ".py",
   "mimetype": "text/x-python",
   "name": "python",
   "nbconvert_exporter": "python",
   "pygments_lexer": "ipython2",
   "version": "2.7.6"
  }
 },
 "nbformat": 4,
 "nbformat_minor": 5
}
