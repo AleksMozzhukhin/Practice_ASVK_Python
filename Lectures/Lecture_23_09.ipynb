{
 "cells": [
  {
   "cell_type": "markdown",
   "id": "89bf6573db98754f",
   "metadata": {},
   "source": [
    "# Последовательности и цикл for"
   ]
  },
  {
   "cell_type": "markdown",
   "id": "109697f999b16619",
   "metadata": {},
   "source": [
    "Методы объектов"
   ]
  },
  {
   "cell_type": "code",
   "id": "84c22151bebda79a",
   "metadata": {
    "ExecuteTime": {
     "end_time": "2024-09-23T17:09:20.235610Z",
     "start_time": "2024-09-23T17:09:20.222607Z"
    }
   },
   "source": [
    "a, b = \"adfqwefqw\", 2\n",
    "print(a.__mul__(b))"
   ],
   "outputs": [
    {
     "name": "stdout",
     "output_type": "stream",
     "text": [
      "adfqwefqwadfqwefqw\n"
     ]
    }
   ],
   "execution_count": 1
  },
  {
   "cell_type": "markdown",
   "id": "f33b50ec-de45-4a23-90c2-bfb092bb89f3",
   "metadata": {},
   "source": "Питон язык строго типизированный, просто много различных методов, приводящих одни типы к другим"
  },
  {
   "cell_type": "markdown",
   "id": "558ee0f9-bf77-4f29-b3fb-2d147ef849a5",
   "metadata": {},
   "source": [
    "## Последовательность \n",
    "это свойство объекта, т.е. тоже протокол (набор некоторых методов)\n",
    "\n",
    "Последовательности имеют метод **последовательность.__getitem__(что-то)**, что означает последовательность[что-то] или метод .__iter__()"
   ]
  },
  {
   "cell_type": "markdown",
   "id": "2d6b0caa-8ffc-429a-b0db-8a36ed15f8cd",
   "metadata": {},
   "source": [
    "## Цикл for\n",
    "\n",
    "    for <имена> in <последовательность>:\n",
    "        <тело>"
   ]
  },
  {
   "cell_type": "code",
   "execution_count": 1,
   "id": "d28ab231-6f7a-4d77-ac20-4cbb3334a80a",
   "metadata": {},
   "outputs": [
    {
     "name": "stdout",
     "output_type": "stream",
     "text": [
      "2\n",
      "4\n",
      "6\n",
      "8\n"
     ]
    }
   ],
   "source": [
    "for i in range(2, 9, 2):\n",
    "    print(i)"
   ]
  },
  {
   "cell_type": "markdown",
   "id": "a908685c-1691-4ff7-9beb-aaa07f5fb00e",
   "metadata": {},
   "source": [
    "В случае range() - вычислимый объект, так как никто не хранит в памяти вычислимые последовательности\n",
    "\n",
    "Попоробуем вместро range() хранить кортеж:"
   ]
  },
  {
   "cell_type": "code",
   "execution_count": 2,
   "id": "42baf4ef-2e58-4ee9-b0c8-f78831368de0",
   "metadata": {},
   "outputs": [
    {
     "name": "stdout",
     "output_type": "stream",
     "text": [
      "1\n",
      "435\n",
      "qwrgnjiwer\n",
      "None\n"
     ]
    }
   ],
   "source": [
    "for i in (1, 435, \"qwrgnjiwer\", None):\n",
    "    print(i)"
   ]
  },
  {
   "metadata": {},
   "cell_type": "markdown",
   "source": "В цикле **for** абсолютно аналогично рабоатют операторы **break** и **continue**",
   "id": "c1891c0efa55dfa1"
  },
  {
   "metadata": {
    "ExecuteTime": {
     "end_time": "2024-09-23T13:38:20.390833Z",
     "start_time": "2024-09-23T13:38:20.373983Z"
    }
   },
   "cell_type": "code",
   "source": [
    "for i in (1, 435, \"qwrgnjiwer\", None):\n",
    "    if not i:\n",
    "        break\n",
    "    print(i)\n",
    "else:\n",
    "    print(\"No empty objects\")"
   ],
   "id": "23b301ea3a0131b4",
   "outputs": [
    {
     "name": "stdout",
     "output_type": "stream",
     "text": [
      "1\n",
      "435\n",
      "qwrgnjiwer\n"
     ]
    }
   ],
   "execution_count": 3
  },
  {
   "metadata": {},
   "cell_type": "markdown",
   "source": "",
   "id": "d4c5a68a49d1eea9"
  },
  {
   "metadata": {},
   "cell_type": "markdown",
   "source": [
    "## Константные последовательности на примере кортежа\n",
    "\n",
    "1)Умножение на число и сложение"
   ],
   "id": "54f58f0d298f96e2"
  },
  {
   "metadata": {
    "ExecuteTime": {
     "end_time": "2024-09-23T13:55:39.154853Z",
     "start_time": "2024-09-23T13:55:39.133849Z"
    }
   },
   "cell_type": "code",
   "source": [
    "a = (1, 2, \"wrvfq\", 66234, 'a')\n",
    "print(id(a))\n",
    "a += 1, 2, 3\n",
    "print(id(a))\n",
    "a *= 2\n",
    "print(id(a))"
   ],
   "id": "870d8a546dfb1c3e",
   "outputs": [
    {
     "name": "stdout",
     "output_type": "stream",
     "text": [
      "1661442525760\n",
      "1661442176640\n",
      "1661442261760\n"
     ]
    }
   ],
   "execution_count": 8
  },
  {
   "metadata": {},
   "cell_type": "markdown",
   "source": "Так как кортеж это неизменяемая последовательность, то при попытке изменить её будет сконструирован новый кортеж",
   "id": "f179daff015c2c10"
  },
  {
   "metadata": {},
   "cell_type": "markdown",
   "source": "2)индексация, т.е. красивая обёртка над методом a.__getitem__() == a[]",
   "id": "eb824d82c1761771"
  },
  {
   "metadata": {},
   "cell_type": "markdown",
   "source": "",
   "id": "f7ca771e2a6788a4"
  },
  {
   "metadata": {
    "ExecuteTime": {
     "end_time": "2024-09-23T13:55:43.663089Z",
     "start_time": "2024-09-23T13:55:43.652087Z"
    }
   },
   "cell_type": "code",
   "source": "print(a[1], a.__getitem__(1))",
   "id": "e328a376db07b197",
   "outputs": [
    {
     "name": "stdout",
     "output_type": "stream",
     "text": [
      "2 2\n"
     ]
    }
   ],
   "execution_count": 9
  },
  {
   "metadata": {},
   "cell_type": "markdown",
   "source": "3)Срезы",
   "id": "bb984207fb0606c9"
  },
  {
   "metadata": {
    "ExecuteTime": {
     "end_time": "2024-09-23T13:55:59.064886Z",
     "start_time": "2024-09-23T13:55:59.053458Z"
    }
   },
   "cell_type": "code",
   "source": [
    "print(a[:9])\n",
    "print(a[8:3:-2])"
   ],
   "id": "a08d47ed9facfe19",
   "outputs": [
    {
     "name": "stdout",
     "output_type": "stream",
     "text": [
      "(1, 2, 'wrvfq', 66234, 'a', 1, 2, 3, 1)\n",
      "(1, 2, 'a')\n"
     ]
    }
   ],
   "execution_count": 11
  },
  {
   "metadata": {},
   "cell_type": "markdown",
   "source": "Немного забежим вперёд и увидим, какие в питоне простые классы",
   "id": "c437b2ad70f8a430"
  },
  {
   "metadata": {
    "ExecuteTime": {
     "end_time": "2024-09-23T14:02:11.030023Z",
     "start_time": "2024-09-23T14:02:11.017824Z"
    }
   },
   "cell_type": "code",
   "source": [
    "class C:\n",
    "    def __getitem__(self, obj):\n",
    "        return obj\n",
    "\n",
    "\n",
    "c = C()\n",
    "print(c[1])\n",
    "print(c[bin])\n",
    "res = c[1: 2: 3]\n",
    "print(res.start)\n",
    "res = c[None: 123:\"142^&#%&$\"]\n",
    "print(res.start, res.stop, res.step)"
   ],
   "id": "d88a60e8c9016c15",
   "outputs": [
    {
     "name": "stdout",
     "output_type": "stream",
     "text": [
      "1\n",
      "<built-in function bin>\n",
      "1\n",
      "None 123 142^&#%&$\n"
     ]
    }
   ],
   "execution_count": 17
  },
  {
   "metadata": {},
   "cell_type": "markdown",
   "source": [
    "## Строки\n",
    "\n",
    "Элемент строки — строка так что \"!@#\"[0][0][0][-1][0][-1]… — сработает и выдаст \"!\" :)\n",
    "\n",
    "⇒ Хотя строки и хранимая последовательность, её «элементы» вычисляются (не храним все подпоследовательности, храним только итоговую строку, а элементы вычисляем)"
   ],
   "id": "565ce90c17d826a5"
  },
  {
   "metadata": {},
   "cell_type": "markdown",
   "source": [
    "## Списки\n",
    "\n",
    "Модифицируемые последовательности\n",
    "\n",
    "Имеют методы  __setitem__()"
   ],
   "id": "566c149a967e1c3d"
  },
  {
   "metadata": {
    "ExecuteTime": {
     "end_time": "2024-09-23T14:08:51.381659Z",
     "start_time": "2024-09-23T14:08:51.358372Z"
    }
   },
   "cell_type": "code",
   "source": [
    "a = [1, 87145, 6324, 4526, 96774]\n",
    "print(a)\n",
    "b = a\n",
    "b[1] = \"rhqwobge\"\n",
    "print(b, \"\\n\", a)\n",
    "del a[3]\n",
    "print(a)"
   ],
   "id": "3a8515d2ea97deb1",
   "outputs": [
    {
     "name": "stdout",
     "output_type": "stream",
     "text": [
      "[1, 87145, 6324, 4526, 96774]\n",
      "[1, 'rhqwobge', 6324, 4526, 96774] \n",
      " [1, 'rhqwobge', 6324, 4526, 96774]\n",
      "[1, 'rhqwobge', 6324, 96774]\n"
     ]
    }
   ],
   "execution_count": 19
  },
  {
   "metadata": {},
   "cell_type": "markdown",
   "source": "Модифицируемые последовательности можно \"собирать\"",
   "id": "bfa366b4d6d7205a"
  },
  {
   "metadata": {
    "ExecuteTime": {
     "end_time": "2024-09-23T14:10:59.648223Z",
     "start_time": "2024-09-23T14:10:59.631010Z"
    }
   },
   "cell_type": "code",
   "source": [
    "a[3:5] = range(3)\n",
    "print(a)"
   ],
   "id": "b1b8f16c5ea72852",
   "outputs": [
    {
     "name": "stdout",
     "output_type": "stream",
     "text": [
      "[1, 'rhqwobge', 6324, 0, 1, 2]\n"
     ]
    }
   ],
   "execution_count": 20
  },
  {
   "metadata": {
    "ExecuteTime": {
     "end_time": "2024-09-23T14:12:34.435765Z",
     "start_time": "2024-09-23T14:12:34.418292Z"
    }
   },
   "cell_type": "code",
   "source": [
    "tmp_list = list(range(20))\n",
    "print(tmp_list)\n",
    "print(tmp_list[-1:5:-3])"
   ],
   "id": "196bfe167c585bcb",
   "outputs": [
    {
     "name": "stdout",
     "output_type": "stream",
     "text": [
      "[0, 1, 2, 3, 4, 5, 6, 7, 8, 9, 10, 11, 12, 13, 14, 15, 16, 17, 18, 19]\n",
      "[19, 16, 13, 10, 7]\n"
     ]
    }
   ],
   "execution_count": 23
  },
  {
   "metadata": {},
   "cell_type": "markdown",
   "source": [
    "## Циклическая сборка\n",
    "\n",
    "Отметим, что лучше говорить \"сборка\", а не конструктор, так как может быть путаница с конструкторами классов"
   ],
   "id": "dc7a93e77f2f3daf"
  },
  {
   "metadata": {
    "ExecuteTime": {
     "end_time": "2024-09-23T14:15:14.927407Z",
     "start_time": "2024-09-23T14:15:14.908795Z"
    }
   },
   "cell_type": "code",
   "source": [
    "l = [i * 2 + 1 for i in range(20)]\n",
    "print(l)\n",
    "l = [i * 2 + j for i in range(8) for j in range(3)]  #как вложенный цикл или декартово произведение\n",
    "print(l)\n"
   ],
   "id": "36e521341f370305",
   "outputs": [
    {
     "name": "stdout",
     "output_type": "stream",
     "text": [
      "[1, 3, 5, 7, 9, 11, 13, 15, 17, 19, 21, 23, 25, 27, 29, 31, 33, 35, 37, 39]\n",
      "[0, 1, 2, 2, 3, 4, 4, 5, 6, 6, 7, 8, 8, 9, 10, 10, 11, 12, 12, 13, 14, 14, 15, 16]\n"
     ]
    }
   ],
   "execution_count": 26
  },
  {
   "metadata": {},
   "cell_type": "markdown",
   "source": "Также у циклической сборки есть фильтрующая пауза \"if\"",
   "id": "c188c266682974fe"
  },
  {
   "metadata": {
    "ExecuteTime": {
     "end_time": "2024-09-23T14:18:24.339804Z",
     "start_time": "2024-09-23T14:18:24.321126Z"
    }
   },
   "cell_type": "code",
   "source": [
    "l = [i * 2 + 1 for i in range(20) if i != 13]\n",
    "print(l)"
   ],
   "id": "bc77a9fbf3e2903e",
   "outputs": [
    {
     "name": "stdout",
     "output_type": "stream",
     "text": [
      "[1, 3, 5, 7, 9, 11, 13, 15, 17, 19, 21, 23, 25, 29, 31, 33, 35, 37, 39]\n"
     ]
    }
   ],
   "execution_count": 29
  },
  {
   "metadata": {},
   "cell_type": "markdown",
   "source": [
    "Прежде чем поговорить о методах работы со списками рассмотрим следующее:\n",
    "\n",
    "list!=список, это **динамический массив**, т.е. массив ссылок на объекты питона\n",
    "\n",
    "Так как это массив, то индексация по этим ссылкам очень быстрая **O(n)**\n",
    "\n",
    "В связи с этим вставка и удаление элементов из конца производятся очень быстро (в описании сказали, что длинна увеличилась на единичку и прибавили нужную ссылку). Это позволяет использовать массив как **стек**\n",
    "\n",
    "\n"
   ],
   "id": "6cb90a12d20aba76"
  },
  {
   "metadata": {},
   "cell_type": "markdown",
   "source": [
    "Однако что делать, если вся выделенная память под массив закончилась?\n",
    "\n",
    "Общий принцип работы динамических массивов:\n",
    "\n",
    "    1)Создали массив на n элементов\n",
    "    2)переполнились\n",
    "    3)создали новый массив на 2n элементов\n",
    "    4)скопировали наш массив\n",
    "    \n",
    "Данный алгоритм называется геометрическим масштабированием\n",
    "\n",
    "Немного математики и получаем, что в среднем добавление объекта в конец всё равно занимает константное время (см на сайте)"
   ],
   "id": "cfae9e0af95e9154"
  },
  {
   "metadata": {},
   "cell_type": "markdown",
   "source": [
    "## Другие методы списка\n",
    "\n",
    "**list.copy()**"
   ],
   "id": "3298317a93cf806e"
  },
  {
   "metadata": {
    "ExecuteTime": {
     "end_time": "2024-09-23T14:32:05.030886Z",
     "start_time": "2024-09-23T14:32:05.019436Z"
    }
   },
   "cell_type": "code",
   "source": [
    "a = [1, 2, [3, 4, 5], 6, 7]\n",
    "b = a.copy()\n",
    "print(b is a)\n",
    "a[1] = \"som\"\n",
    "print(a, b, sep=\"\\n\")\n",
    "a[2][0] = \"newsome\"\n",
    "print(a, b, sep=\"\\n\")"
   ],
   "id": "e0ded761e8925e6",
   "outputs": [
    {
     "name": "stdout",
     "output_type": "stream",
     "text": [
      "False\n",
      "[1, 'som', [3, 4, 5], 6, 7]\n",
      "[1, 2, [3, 4, 5], 6, 7]\n",
      "[1, 'som', ['newsome', 4, 5], 6, 7]\n",
      "[1, 2, ['newsome', 4, 5], 6, 7]\n"
     ]
    }
   ],
   "execution_count": 31
  },
  {
   "metadata": {},
   "cell_type": "markdown",
   "source": "Чтобы такого не происходило,будем использовать **deepcopy()**",
   "id": "e2bbb46e7186880b"
  },
  {
   "metadata": {
    "ExecuteTime": {
     "end_time": "2024-09-23T14:33:33.281125Z",
     "start_time": "2024-09-23T14:33:33.265897Z"
    }
   },
   "cell_type": "code",
   "source": [
    "import copy\n",
    "\n",
    "c = copy.deepcopy(a)\n",
    "print(id(a), id(b), id(c))"
   ],
   "id": "b2b3c5dcd9a5d7d",
   "outputs": [
    {
     "name": "stdout",
     "output_type": "stream",
     "text": [
      "1661463905152 1661463904512 1661440577856\n"
     ]
    }
   ],
   "execution_count": 32
  },
  {
   "metadata": {},
   "cell_type": "markdown",
   "source": [
    "\"Жестокие методы\" **reverse()** и **sort()**\n",
    "\n",
    "Они меняют массивы \"на месте\""
   ],
   "id": "b8fa0bcd3968f338"
  },
  {
   "metadata": {
    "ExecuteTime": {
     "end_time": "2024-09-23T14:38:10.326053Z",
     "start_time": "2024-09-23T14:38:10.304048Z"
    }
   },
   "cell_type": "code",
   "source": [
    "new_list = [123, 4, 1, 324, 3214, 351234]\n",
    "new_list.reverse()\n",
    "print(new_list)\n",
    "new_list.sort()\n",
    "print(new_list)"
   ],
   "id": "15830834790f237c",
   "outputs": [
    {
     "name": "stdout",
     "output_type": "stream",
     "text": [
      "[351234, 3214, 324, 1, 4, 123]\n",
      "[1, 4, 123, 324, 3214, 351234]\n"
     ]
    }
   ],
   "execution_count": 33
  },
  {
   "metadata": {},
   "cell_type": "markdown",
   "source": [
    "## Сравнение с linked list\n",
    "\n",
    "единственная выгода linked list — это константная сложность вставки/удаления произвольного элемента,\n",
    "но алгоритмов, требующих вставки/удаления произвольного элемента без предварительного поиска, кажется (?) нет, а поиск в обоих случаях линейный"
   ],
   "id": "e26558ba0e415955"
  },
  {
   "metadata": {},
   "cell_type": "markdown",
   "source": [
    "## Колоды (deque)\n",
    "\n",
    "Очень хорошо масштабируемый тип данных, легко превращаемый как в list, так и в que"
   ],
   "id": "ce0e717c2199bb37"
  },
  {
   "metadata": {},
   "cell_type": "markdown",
   "source": [
    "## Имитация многомерных структур данных\n",
    "\n",
    "a=[][] - просто получили список списков, однако есть минусы\n",
    "\n",
    "a=[[1,2,3], [4,5,6], [7,8]] - нельзя проверить, прямоугольная ли она\n",
    "\n",
    "\n",
    "\n",
    "#### Как задать матрицу?\n",
    "\n"
   ],
   "id": "42b5e2f388c1baa1"
  }
 ],
 "metadata": {
  "kernelspec": {
   "display_name": "Python 3 (ipykernel)",
   "language": "python",
   "name": "python3"
  },
  "language_info": {
   "codemirror_mode": {
    "name": "ipython",
    "version": 3
   },
   "file_extension": ".py",
   "mimetype": "text/x-python",
   "name": "python",
   "nbconvert_exporter": "python",
   "pygments_lexer": "ipython3",
   "version": "3.10.15"
  }
 },
 "nbformat": 4,
 "nbformat_minor": 5
}
